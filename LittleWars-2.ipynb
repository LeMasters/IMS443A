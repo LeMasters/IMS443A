{
 "cells": [
  {
   "cell_type": "markdown",
   "id": "9ed9b4f1-126f-4c53-9b88-84e4d80f3368",
   "metadata": {
    "tags": []
   },
   "source": [
    "# I\n",
    "\n",
    "## OF THE LEGENDARY PAST\n",
    "\n",
    "\n",
    "\"LITTLE WARS\" is the game of kings--for players in an inferior social\n",
    "position. It can be played by boys of every age from twelve to one\n",
    "hundred and fifty--and even later if the limbs remain sufficiently\n",
    "supple--by girls of the better sort, and by a few rare and gifted women.\n",
    "This is to be a full History of Little Wars from its recorded and\n",
    "authenticated beginning until the present time, an account of how to\n",
    "make little warfare, and hints of the most priceless sort for the\n",
    "recumbent strategist....\n",
    "\n",
    "But first let it be noted in passing that there were prehistoric\n",
    "\"Little Wars.\" This is no new thing, no crude novelty; but a thing\n",
    "tested by time, ancient and ripe in its essentials for all its perennial\n",
    "freshness--like spring. There was a Someone who fought Little Wars in\n",
    "the days of Queen Anne; a garden Napoleon. His game was inaccurately\n",
    "observed and insufficiently recorded by Laurence Sterne. It is clear\n",
    "that Uncle Toby and Corporal Trim were playing Little Wars on a scale\n",
    "and with an elaboration exceeding even the richness and beauty of the\n",
    "contemporary game. But the curtain is drawn back only to tantalise us.\n",
    "It is scarcely conceivable that anywhere now on earth the Shandean Rules\n",
    "remain on record. Perhaps they were never committed to paper....\n",
    "\n",
    "And in all ages a certain barbaric warfare has been waged with soldiers\n",
    "of tin and lead and wood, with the weapons of the wild, with the\n",
    "catapult, the elastic circular garter, the peashooter, the rubber ball,\n",
    "and such-like appliances--a mere setting up and knocking down of men.\n",
    "Tin murder. The advance of civilisation has swept such rude contests\n",
    "altogether from the playroom. We know them no more...."
   ]
  },
  {
   "cell_type": "markdown",
   "id": "778551a4-9f2b-4fc2-a232-ebfc2e0228ed",
   "metadata": {
    "tags": []
   },
   "source": [
    "# II\n",
    "\n",
    "## THE BEGINNINGS OF MODERN LITTLE WARFARE\n",
    "\n",
    "\n",
    "THE beginning of the game of Little War, as we know it, became possible\n",
    "with the invention of the spring breechloader gun. This priceless gift\n",
    "to boyhood appeared somewhen towards the end of the last century, a gun\n",
    "capable of hitting a toy soldier nine times out of ten at a distance of\n",
    "nine yards. It has completely superseded all the spiral-spring and other\n",
    "makes of gun hitherto used in playroom warfare. These spring\n",
    "breechloaders are made in various sizes and patterns, but the one used\n",
    "in our game is that known in England as the four-point-seven gun. It\n",
    "fires a wooden cylinder about an inch long, and has a screw adjustment\n",
    "for elevation and depression. It is an altogether elegant weapon.\n",
    "\n",
    "It was with one of these guns that the beginning of our war game was\n",
    "made. It was at Sandgate--in England."
   ]
  },
  {
   "cell_type": "code",
   "execution_count": null,
   "id": "a8866197-3f8c-4fdf-b73a-d2c24b0fadd1",
   "metadata": {
    "tags": []
   },
   "outputs": [],
   "source": []
  }
 ],
 "metadata": {
  "kernelspec": {
   "display_name": "Python 3 (ipykernel)",
   "language": "python",
   "name": "python3"
  },
  "language_info": {
   "codemirror_mode": {
    "name": "ipython",
    "version": 3
   },
   "file_extension": ".py",
   "mimetype": "text/x-python",
   "name": "python",
   "nbconvert_exporter": "python",
   "pygments_lexer": "ipython3",
   "version": "3.9.10"
  }
 },
 "nbformat": 4,
 "nbformat_minor": 5
}
